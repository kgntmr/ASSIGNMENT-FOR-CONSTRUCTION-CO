{
 "cells": [
  {
   "cell_type": "code",
   "execution_count": 1,
   "metadata": {},
   "outputs": [],
   "source": [
    "import mysql.connector"
   ]
  },
  {
   "cell_type": "code",
   "execution_count": 2,
   "metadata": {},
   "outputs": [
    {
     "ename": "InterfaceError",
     "evalue": "2003: Can't connect to MySQL server on 'localhost:3306' (61 Connection refused)",
     "output_type": "error",
     "traceback": [
      "\u001b[0;31m---------------------------------------------------------------------------\u001b[0m",
      "\u001b[0;31mConnectionRefusedError\u001b[0m                    Traceback (most recent call last)",
      "File \u001b[0;32m/opt/anaconda3/lib/python3.9/site-packages/mysql/connector/network.py:600\u001b[0m, in \u001b[0;36mMySQLTCPSocket.open_connection\u001b[0;34m(self)\u001b[0m\n\u001b[1;32m    599\u001b[0m     \u001b[39mself\u001b[39m\u001b[39m.\u001b[39msock\u001b[39m.\u001b[39msettimeout(\u001b[39mself\u001b[39m\u001b[39m.\u001b[39m_connection_timeout)\n\u001b[0;32m--> 600\u001b[0m     \u001b[39mself\u001b[39;49m\u001b[39m.\u001b[39;49msock\u001b[39m.\u001b[39;49mconnect(sockaddr)\n\u001b[1;32m    601\u001b[0m \u001b[39mexcept\u001b[39;00m \u001b[39mIOError\u001b[39;00m \u001b[39mas\u001b[39;00m err:\n",
      "\u001b[0;31mConnectionRefusedError\u001b[0m: [Errno 61] Connection refused",
      "\nThe above exception was the direct cause of the following exception:\n",
      "\u001b[0;31mInterfaceError\u001b[0m                            Traceback (most recent call last)",
      "Cell \u001b[0;32mIn[2], line 1\u001b[0m\n\u001b[0;32m----> 1\u001b[0m mydb \u001b[39m=\u001b[39m mysql\u001b[39m.\u001b[39;49mconnector\u001b[39m.\u001b[39;49mconnect(\n\u001b[1;32m      2\u001b[0m     host\u001b[39m=\u001b[39;49m\u001b[39m\"\u001b[39;49m\u001b[39mlocalhost\u001b[39;49m\u001b[39m\"\u001b[39;49m,\n\u001b[1;32m      3\u001b[0m     user\u001b[39m=\u001b[39;49m\u001b[39m\"\u001b[39;49m\u001b[39mroot\u001b[39;49m\u001b[39m\"\u001b[39;49m,\n\u001b[1;32m      4\u001b[0m     password\u001b[39m=\u001b[39;49m\u001b[39m\"\u001b[39;49m\u001b[39mkda123\u001b[39;49m\u001b[39m\"\u001b[39;49m,\n\u001b[1;32m      5\u001b[0m )\n",
      "File \u001b[0;32m/opt/anaconda3/lib/python3.9/site-packages/mysql/connector/pooling.py:294\u001b[0m, in \u001b[0;36mconnect\u001b[0;34m(*args, **kwargs)\u001b[0m\n\u001b[1;32m    292\u001b[0m \u001b[39mif\u001b[39;00m CMySQLConnection \u001b[39mand\u001b[39;00m \u001b[39mnot\u001b[39;00m use_pure:\n\u001b[1;32m    293\u001b[0m     \u001b[39mreturn\u001b[39;00m CMySQLConnection(\u001b[39m*\u001b[39margs, \u001b[39m*\u001b[39m\u001b[39m*\u001b[39mkwargs)\n\u001b[0;32m--> 294\u001b[0m \u001b[39mreturn\u001b[39;00m MySQLConnection(\u001b[39m*\u001b[39;49margs, \u001b[39m*\u001b[39;49m\u001b[39m*\u001b[39;49mkwargs)\n",
      "File \u001b[0;32m/opt/anaconda3/lib/python3.9/site-packages/mysql/connector/connection.py:164\u001b[0m, in \u001b[0;36mMySQLConnection.__init__\u001b[0;34m(self, **kwargs)\u001b[0m\n\u001b[1;32m    162\u001b[0m \u001b[39mif\u001b[39;00m kwargs:\n\u001b[1;32m    163\u001b[0m     \u001b[39mtry\u001b[39;00m:\n\u001b[0;32m--> 164\u001b[0m         \u001b[39mself\u001b[39;49m\u001b[39m.\u001b[39;49mconnect(\u001b[39m*\u001b[39;49m\u001b[39m*\u001b[39;49mkwargs)\n\u001b[1;32m    165\u001b[0m     \u001b[39mexcept\u001b[39;00m \u001b[39mException\u001b[39;00m:\n\u001b[1;32m    166\u001b[0m         \u001b[39m# Tidy-up underlying socket on failure\u001b[39;00m\n\u001b[1;32m    167\u001b[0m         \u001b[39mself\u001b[39m\u001b[39m.\u001b[39mclose()\n",
      "File \u001b[0;32m/opt/anaconda3/lib/python3.9/site-packages/mysql/connector/abstracts.py:1181\u001b[0m, in \u001b[0;36mMySQLConnectionAbstract.connect\u001b[0;34m(self, **kwargs)\u001b[0m\n\u001b[1;32m   1178\u001b[0m     \u001b[39mself\u001b[39m\u001b[39m.\u001b[39mconfig(\u001b[39m*\u001b[39m\u001b[39m*\u001b[39mkwargs)\n\u001b[1;32m   1180\u001b[0m \u001b[39mself\u001b[39m\u001b[39m.\u001b[39mdisconnect()\n\u001b[0;32m-> 1181\u001b[0m \u001b[39mself\u001b[39;49m\u001b[39m.\u001b[39;49m_open_connection()\n\u001b[1;32m   1182\u001b[0m \u001b[39m# Server does not allow to run any other statement different from ALTER\u001b[39;00m\n\u001b[1;32m   1183\u001b[0m \u001b[39m# when user's password has been expired.\u001b[39;00m\n\u001b[1;32m   1184\u001b[0m \u001b[39mif\u001b[39;00m \u001b[39mnot\u001b[39;00m \u001b[39mself\u001b[39m\u001b[39m.\u001b[39m_client_flags \u001b[39m&\u001b[39m ClientFlag\u001b[39m.\u001b[39mCAN_HANDLE_EXPIRED_PASSWORDS:\n",
      "File \u001b[0;32m/opt/anaconda3/lib/python3.9/site-packages/mysql/connector/connection.py:570\u001b[0m, in \u001b[0;36mMySQLConnection._open_connection\u001b[0;34m(self)\u001b[0m\n\u001b[1;32m    568\u001b[0m \u001b[39mself\u001b[39m\u001b[39m.\u001b[39m_socket \u001b[39m=\u001b[39m \u001b[39mself\u001b[39m\u001b[39m.\u001b[39m_get_connection()\n\u001b[1;32m    569\u001b[0m \u001b[39mtry\u001b[39;00m:\n\u001b[0;32m--> 570\u001b[0m     \u001b[39mself\u001b[39;49m\u001b[39m.\u001b[39;49m_socket\u001b[39m.\u001b[39;49mopen_connection()\n\u001b[1;32m    571\u001b[0m     \u001b[39mself\u001b[39m\u001b[39m.\u001b[39m_do_handshake()\n\u001b[1;32m    572\u001b[0m     \u001b[39mself\u001b[39m\u001b[39m.\u001b[39m_do_auth(\n\u001b[1;32m    573\u001b[0m         \u001b[39mself\u001b[39m\u001b[39m.\u001b[39m_user,\n\u001b[1;32m    574\u001b[0m         \u001b[39mself\u001b[39m\u001b[39m.\u001b[39m_password,\n\u001b[0;32m   (...)\u001b[0m\n\u001b[1;32m    579\u001b[0m         \u001b[39mself\u001b[39m\u001b[39m.\u001b[39m_conn_attrs,\n\u001b[1;32m    580\u001b[0m     )\n",
      "File \u001b[0;32m/opt/anaconda3/lib/python3.9/site-packages/mysql/connector/network.py:602\u001b[0m, in \u001b[0;36mMySQLTCPSocket.open_connection\u001b[0;34m(self)\u001b[0m\n\u001b[1;32m    600\u001b[0m     \u001b[39mself\u001b[39m\u001b[39m.\u001b[39msock\u001b[39m.\u001b[39mconnect(sockaddr)\n\u001b[1;32m    601\u001b[0m \u001b[39mexcept\u001b[39;00m \u001b[39mIOError\u001b[39;00m \u001b[39mas\u001b[39;00m err:\n\u001b[0;32m--> 602\u001b[0m     \u001b[39mraise\u001b[39;00m InterfaceError(\n\u001b[1;32m    603\u001b[0m         errno\u001b[39m=\u001b[39m\u001b[39m2003\u001b[39m,\n\u001b[1;32m    604\u001b[0m         values\u001b[39m=\u001b[39m(\n\u001b[1;32m    605\u001b[0m             \u001b[39mself\u001b[39m\u001b[39m.\u001b[39mserver_host,\n\u001b[1;32m    606\u001b[0m             \u001b[39mself\u001b[39m\u001b[39m.\u001b[39mserver_port,\n\u001b[1;32m    607\u001b[0m             _strioerror(err),\n\u001b[1;32m    608\u001b[0m         ),\n\u001b[1;32m    609\u001b[0m     ) \u001b[39mfrom\u001b[39;00m \u001b[39merr\u001b[39;00m\n\u001b[1;32m    610\u001b[0m \u001b[39mexcept\u001b[39;00m \u001b[39mException\u001b[39;00m \u001b[39mas\u001b[39;00m err:\n\u001b[1;32m    611\u001b[0m     \u001b[39mraise\u001b[39;00m OperationalError(\u001b[39mstr\u001b[39m(err)) \u001b[39mfrom\u001b[39;00m \u001b[39merr\u001b[39;00m\n",
      "\u001b[0;31mInterfaceError\u001b[0m: 2003: Can't connect to MySQL server on 'localhost:3306' (61 Connection refused)"
     ]
    }
   ],
   "source": [
    "mydb = mysql.connector.connect(\n",
    "    host=\"localhost\",\n",
    "    user=\"root\",\n",
    "    password=\"kda123\",\n",
    ")"
   ]
  }
 ],
 "metadata": {
  "kernelspec": {
   "display_name": "base",
   "language": "python",
   "name": "python3"
  },
  "language_info": {
   "codemirror_mode": {
    "name": "ipython",
    "version": 3
   },
   "file_extension": ".py",
   "mimetype": "text/x-python",
   "name": "python",
   "nbconvert_exporter": "python",
   "pygments_lexer": "ipython3",
   "version": "3.9.13"
  },
  "orig_nbformat": 4
 },
 "nbformat": 4,
 "nbformat_minor": 2
}
