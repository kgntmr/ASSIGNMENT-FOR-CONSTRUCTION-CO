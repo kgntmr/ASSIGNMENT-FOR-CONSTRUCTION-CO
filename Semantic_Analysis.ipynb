{
  "nbformat": 4,
  "nbformat_minor": 0,
  "metadata": {
    "colab": {
      "provenance": [],
      "mount_file_id": "1lXzaDFPgI0RwCWqJNKg1kulOab1IcYbP",
      "authorship_tag": "ABX9TyNnIspQ6E9Ana3CpSaCX8ey",
      "include_colab_link": true
    },
    "kernelspec": {
      "name": "python3",
      "display_name": "Python 3"
    },
    "language_info": {
      "name": "python"
    }
  },
  "cells": [
    {
      "cell_type": "markdown",
      "metadata": {
        "id": "view-in-github",
        "colab_type": "text"
      },
      "source": [
        "<a href=\"https://colab.research.google.com/github/kgntmr/CONSTRUCTION-SECTOR-ANALYSIS/blob/main/Semantic_Analysis.ipynb\" target=\"_parent\"><img src=\"https://colab.research.google.com/assets/colab-badge.svg\" alt=\"Open In Colab\"/></a>"
      ]
    },
    {
      "cell_type": "code",
      "source": [
        "import pandas as pd\n",
        "import warnings\n",
        "import re\n",
        "import nltk\n",
        "import plotly.express as px\n",
        "from nltk.corpus import stopwords\n",
        "from gensim import corpora, models\n",
        "import gensim\n",
        "from nltk.stem.wordnet import WordNetLemmatizer\n",
        "from nltk.sentiment.vader import SentimentIntensityAnalyzer\n",
        "nltk.download('vader_lexicon')\n",
        "nltk.download('wordnet')\n",
        "nltk.download('punkt')\n",
        "nltk.download('stopwords')"
      ],
      "metadata": {
        "colab": {
          "base_uri": "https://localhost:8080/"
        },
        "id": "faYuXMWqNpQd",
        "outputId": "36a6366d-f9a6-41de-92e6-973fabc95563"
      },
      "execution_count": 1,
      "outputs": [
        {
          "output_type": "stream",
          "name": "stderr",
          "text": [
            "[nltk_data] Downloading package vader_lexicon to /root/nltk_data...\n",
            "[nltk_data]   Package vader_lexicon is already up-to-date!\n",
            "[nltk_data] Downloading package wordnet to /root/nltk_data...\n",
            "[nltk_data]   Package wordnet is already up-to-date!\n",
            "[nltk_data] Downloading package punkt to /root/nltk_data...\n",
            "[nltk_data]   Package punkt is already up-to-date!\n",
            "[nltk_data] Downloading package stopwords to /root/nltk_data...\n",
            "[nltk_data]   Package stopwords is already up-to-date!\n"
          ]
        },
        {
          "output_type": "execute_result",
          "data": {
            "text/plain": [
              "True"
            ]
          },
          "metadata": {},
          "execution_count": 1
        }
      ]
    },
    {
      "cell_type": "code",
      "source": [
        "amz = pd.read_excel('/content/Amazon.xlsx')"
      ],
      "metadata": {
        "id": "aB-0fr7QODpF"
      },
      "execution_count": 2,
      "outputs": []
    },
    {
      "cell_type": "code",
      "source": [
        "amz.astype({'Tweet content': 'string', 'Tweet language': 'string', 'Company Name': 'string'}).dtypes"
      ],
      "metadata": {
        "colab": {
          "base_uri": "https://localhost:8080/"
        },
        "id": "yn1QJ2gSOE9Q",
        "outputId": "89703923-3cff-43bb-fe17-e16d736acae9"
      },
      "execution_count": 3,
      "outputs": [
        {
          "output_type": "execute_result",
          "data": {
            "text/plain": [
              "Date              datetime64[ns]\n",
              "Tweet content     string[python]\n",
              "Tweet language    string[python]\n",
              "Is a RT                     bool\n",
              "Company Name      string[python]\n",
              "dtype: object"
            ]
          },
          "metadata": {},
          "execution_count": 3
        }
      ]
    },
    {
      "cell_type": "code",
      "source": [
        "def remove_emojis(data):\n",
        "    emoj = re.compile(\"[\"\n",
        "        u\"\\U0001F600-\\U0001F64F\"  # emoticons\n",
        "        u\"\\U0001F300-\\U0001F5FF\"  # symbols & pictographs\n",
        "        u\"\\U0001F680-\\U0001F6FF\"  # transport & map symbols\n",
        "        u\"\\U0001F1E0-\\U0001F1FF\"  # flags (iOS)\n",
        "        u\"\\U00002500-\\U00002BEF\"  # chinese char\n",
        "        u\"\\U00002702-\\U000027B0\"\n",
        "        u\"\\U000024C2-\\U0001F251\"\n",
        "        u\"\\U0001f926-\\U0001f937\"\n",
        "        u\"\\U00010000-\\U0010ffff\"\n",
        "        u\"\\u2640-\\u2642\"\n",
        "        u\"\\u2600-\\u2B55\"\n",
        "        u\"\\u200d\"\n",
        "        u\"\\u23cf\"\n",
        "        u\"\\u23e9\"\n",
        "        u\"\\u231a\"\n",
        "        u\"\\ufe0f\"  # dingbats\n",
        "        u\"\\u3030\"\n",
        "                      \"]+\", re.UNICODE)\n",
        "    return re.sub(emoj, '', data)"
      ],
      "metadata": {
        "id": "T_PSeYdjOIu_"
      },
      "execution_count": 4,
      "outputs": []
    },
    {
      "cell_type": "code",
      "source": [
        "def preprocess_tweet(tweet):\n",
        "    # Remove URLs\n",
        "    tweet = re.sub(r'http\\S+|www\\S+|https\\S+', '', tweet)\n",
        "\n",
        "    # Remove user mentions\n",
        "    tweet = re.sub(r'@[^\\s]+', '', tweet)\n",
        "\n",
        "    # Remove special characters, punctuation, and numbers\n",
        "    tweet = re.sub(r'[^a-zA-Z\\s]', '', tweet)\n",
        "\n",
        "    # Remove retweet indicators\n",
        "    tweet = re.sub(r'\\brt\\b', '', tweet)\n",
        "\n",
        "    # Remove emojis\n",
        "    tweet = remove_emojis(tweet)\n",
        "\n",
        "    # Convert data to lowercase\n",
        "    tweet = tweet.lower()\n",
        "\n",
        "    # Removing stopwords\n",
        "    clean_words = [word for word in tweet.split() if word.lower() not in stopwords.words('english')]\n",
        "\n",
        "    return ' '.join(clean_words)"
      ],
      "metadata": {
        "id": "4lxjGyPoWNyi"
      },
      "execution_count": 5,
      "outputs": []
    },
    {
      "cell_type": "code",
      "source": [
        "# Word tokenization\n",
        "def word_tokenization(tweet):\n",
        "    # Tokenization\n",
        "    words = nltk.word_tokenize(tweet)\n",
        "    return words"
      ],
      "metadata": {
        "id": "HxIzstKYOJn_"
      },
      "execution_count": 6,
      "outputs": []
    },
    {
      "cell_type": "code",
      "source": [
        "# Create a new DataFrame for the cleaned tweet content\n",
        "amz_1 = pd.DataFrame()\n",
        "\n",
        "# Create a new DataFrame by copying the columns you want from the original DataFrame\n",
        "amz_1 = amz[['Date', 'Tweet language', 'Is a RT', 'Company Name']].copy()"
      ],
      "metadata": {
        "id": "mSQPqjT4ac5W"
      },
      "execution_count": 7,
      "outputs": []
    },
    {
      "cell_type": "code",
      "source": [
        "# Apply preprocessing and tokenization\n",
        "amz_1['Tweet content'] = amz['Tweet content']\n",
        "amz_1['Tweet content'] = amz_1['Tweet content'].apply(preprocess_tweet)\n",
        "amz_1['Tweet content'] = amz_1['Tweet content'].apply(word_tokenization)"
      ],
      "metadata": {
        "id": "zZ-_4cEEaibB"
      },
      "execution_count": 8,
      "outputs": []
    },
    {
      "cell_type": "code",
      "source": [
        "# Conversion of data types\n",
        "amz_1 = amz_1.astype({'Tweet content': 'string', 'Tweet language': 'string', 'Company Name': 'string'})"
      ],
      "metadata": {
        "id": "ZDLZG83CyFRh"
      },
      "execution_count": 9,
      "outputs": []
    },
    {
      "cell_type": "code",
      "source": [
        "amz_1['Tweet content']"
      ],
      "metadata": {
        "colab": {
          "base_uri": "https://localhost:8080/"
        },
        "id": "Qec3N6FzTspe",
        "outputId": "99be82e5-b89b-4a0d-a886-421d631bc42d"
      },
      "execution_count": 10,
      "outputs": [
        {
          "output_type": "execute_result",
          "data": {
            "text/plain": [
              "0        ['try', 'discovery', 'engine', 'amp', 'social'...\n",
              "1        ['andreas', 'halvorsen', 'buys', 'facebook', '...\n",
              "2        ['rt', 'stocks', 'surprise', 'investors', 'ear...\n",
              "3        ['oneplus', 'launched', 'price', 'rs', 'availa...\n",
              "4        ['ocado', 'shares', 'plummet', 'amazon', 'fres...\n",
              "                               ...                        \n",
              "38187    ['amazons', 'tick', 'reboot', 'aims', 'stand',...\n",
              "38188    ['swear', 'momos', 'watching', 'trades', 'ever...\n",
              "38189                            ['amzn', 'wants', 'roll']\n",
              "38190    ['five', 'minute', 'trades', 'spy', 'dia', 'qq...\n",
              "38191    ['rt', 'walls', 'cupboards', 'browsers', 'app'...\n",
              "Name: Tweet content, Length: 38192, dtype: string"
            ]
          },
          "metadata": {},
          "execution_count": 10
        }
      ]
    },
    {
      "cell_type": "code",
      "source": [
        "from collections import Counter\n",
        "\n",
        "# Extracting the text from the 'Tweet content' column\n",
        "tweet_texts = amz_1['Tweet content'].dropna().tolist()  # Drops any NaN values and convert to list\n",
        "\n",
        "# Tokenizing the text and converting to lowercase\n",
        "words = [word.lower() for text in tweet_texts for word in re.findall(r'\\b\\w+\\b', text)]\n",
        "\n",
        "# Counting the frequency of each word\n",
        "word_counts = Counter(words)\n",
        "\n",
        "# Getting the most common 50 words\n",
        "top_50_words = word_counts.most_common(50)\n",
        "\n",
        "# Displaying the results\n",
        "for word, count in top_50_words:\n",
        "    print(f'{word}: {count}')"
      ],
      "metadata": {
        "colab": {
          "base_uri": "https://localhost:8080/"
        },
        "id": "9_Pq4xUU1ANh",
        "outputId": "edf19576-eb58-45a8-af56-bb19470eb04a"
      },
      "execution_count": 11,
      "outputs": [
        {
          "output_type": "stream",
          "name": "stdout",
          "text": [
            "amzn: 38713\n",
            "amazon: 8527\n",
            "rt: 7548\n",
            "fb: 6965\n",
            "aapl: 6908\n",
            "nflx: 4410\n",
            "read: 3853\n",
            "goog: 3777\n",
            "spy: 3586\n",
            "googl: 3112\n",
            "tsla: 3027\n",
            "msft: 2703\n",
            "qqq: 2627\n",
            "stocks: 2463\n",
            "twtr: 2120\n",
            "new: 2008\n",
            "stock: 1834\n",
            "inc: 1756\n",
            "buy: 1544\n",
            "amp: 1489\n",
            "earnings: 1445\n",
            "spx: 1401\n",
            "market: 1160\n",
            "video: 1134\n",
            "via: 1123\n",
            "trading: 1122\n",
            "sell: 1076\n",
            "day: 1060\n",
            "amazons: 1027\n",
            "iwm: 1007\n",
            "today: 989\n",
            "prime: 968\n",
            "baba: 960\n",
            "see: 949\n",
            "wmt: 948\n",
            "apple: 931\n",
            "like: 878\n",
            "cloud: 854\n",
            "tech: 852\n",
            "bezos: 828\n",
            "pt: 827\n",
            "top: 823\n",
            "retail: 817\n",
            "may: 816\n",
            "dia: 786\n",
            "lnkd: 780\n",
            "short: 746\n",
            "trade: 739\n",
            "ibm: 738\n",
            "week: 737\n"
          ]
        }
      ]
    },
    {
      "cell_type": "code",
      "source": [
        "import matplotlib.pyplot as plt\n",
        "\n",
        "# Continuing from the previous code block...\n",
        "top_50_words = word_counts.most_common(50)\n",
        "\n",
        "# Preparing data for plotting\n",
        "words, frequencies = zip(*top_50_words)  # Unzipping the words and their counts\n",
        "\n",
        "# Plotting\n",
        "plt.figure(figsize=(10, 8))  # Set the figure size for better readability\n",
        "plt.bar(words, frequencies, color='blue')  # Create a bar chart\n",
        "plt.xlabel('Words')  # Label for the x-axis\n",
        "plt.ylabel('Frequency')  # Label for the y-axis\n",
        "plt.xticks(rotation=90)  # Rotate the x-axis labels for better readability\n",
        "plt.title('Top 50 Most Used Words in Tweet Content')  # Chart title\n",
        "plt.show()"
      ],
      "metadata": {
        "colab": {
          "base_uri": "https://localhost:8080/",
          "height": 767
        },
        "id": "49Du3YX1UaA4",
        "outputId": "b635a638-d307-4268-974d-674976799568"
      },
      "execution_count": 12,
      "outputs": [
        {
          "output_type": "display_data",
          "data": {
            "text/plain": [
              "<Figure size 1000x800 with 1 Axes>"
            ],
            "image/png": "[encoded data removed]"
          },
          "metadata": {}
        }
      ]
    },
    {
      "cell_type": "markdown",
      "source": [
        " For semantic analysis:\n",
        " -  'stocks', 'stock', 'earnings', 'market', 'trading', 'trade', 'short', maybe relevant for financial analysis,\n",
        " - Words that are too common or generic may not add much value to understanding specific topics. For instance, 'new', 'buy', 'sell', 'day', 'today', 'see', 'like', 'top', 'may', and 'week'.\n",
        " - Words like 'via' and 'amp' (which is often used in place of '&') are generally not useful in topic modeling.\n",
        " - Words like 'rt' (retweet), 'read', and 'video' might be more about the format or action related to the content rather than the content itself.\n",
        " - While 'amzn', 'fb', 'aapl', 'nflx', 'goog', 'googl', 'tsla', 'msft', 'qqq', 'twtr', 'spx', 'iwm', 'baba', 'wmt', 'apple', 'bezos', 'dia', 'lnkd', 'ibm' are relevant for financial or stock market-related discussions.\n",
        " - Words such as 'inc' (incorporated), which could be part of many company names, don't add much to the semantic content. 'Prime' might refer to Amazon Prime specifically but could be considered too specific for the topic model focuses on Amazon services."
      ],
      "metadata": {
        "id": "GYbuy29FU2jW"
      }
    },
    {
      "cell_type": "code",
      "source": [
        "def replace_specific_words(text):\n",
        "    # Mapping for words\n",
        "    replacements = {\n",
        "        'amzn': 'amazon',\n",
        "        'goog': 'google',\n",
        "        'baba': 'ali baba',\n",
        "        'tsla': 'tesla',\n",
        "        'msft': 'microsoft',\n",
        "        'fb': 'facebook',\n",
        "        'aapl': 'apple',\n",
        "        'googl': 'google',\n",
        "        'twtr': 'twitter',\n",
        "        'amazons': 'amazon',\n",
        "        'googlee': 'google',\n",
        "        'googleel': 'google',\n",
        "        'nflx': 'netflix',\n",
        "        'ali': 'ali baba',\n",
        "        'lnkd': 'linkedin'\n",
        "    }\n",
        "    for key, value in replacements.items():\n",
        "        text = text.replace(key, value)\n",
        "    return text\n",
        "\n",
        "# Update the 'Tweet content' column by applying the replacement function\n",
        "amz_1['Tweet content'] = amz_1['Tweet content'].apply(replace_specific_words)"
      ],
      "metadata": {
        "id": "u4LVPjUGg0-e"
      },
      "execution_count": 13,
      "outputs": []
    },
    {
      "cell_type": "code",
      "source": [
        "# Improved list of words to remove, ensuring lowercase for comparison\n",
        "words_to_remove = ['new', 'buy', 'sell', 'day', 'today', 'see', 'like', 'top', 'may', 'week', 'inc', 'could', 'long', 'inc',\n",
        "                   'via', 'amp', 'rt', 'read', 'video', 'pt', 'next', 'time', 'c', 'year', 'see', 'look', 'need']\n",
        "\n",
        "# Enhanced function to remove specified words from a text\n",
        "def remove_words(text, remove_list):\n",
        "    # Creating a pattern that matches any of the words to remove\n",
        "    pattern = r'\\b(' + '|'.join(remove_list) + r')\\b'\n",
        "    # Replacing matched words with nothing (i.e., removing them), case-insensitive\n",
        "    cleaned_text = re.sub(pattern, '', text, flags=re.IGNORECASE)\n",
        "    # Removing extra spaces that may be left after word removal\n",
        "    cleaned_text = re.sub(r'\\s+', ' ', cleaned_text).strip()\n",
        "    return cleaned_text"
      ],
      "metadata": {
        "id": "Os9jMxrscKSe"
      },
      "execution_count": 14,
      "outputs": []
    },
    {
      "cell_type": "code",
      "source": [
        "# Applying the function to each tweet in the 'Tweet content' column\n",
        "amz_1['Tweet content'] = amz_1['Tweet content'].apply(lambda text: remove_words(text, words_to_remove))"
      ],
      "metadata": {
        "id": "ym9lS1s52bHb"
      },
      "execution_count": 15,
      "outputs": []
    },
    {
      "cell_type": "code",
      "source": [
        "# Extracting text and tokenizing\n",
        "all_words = [word.lower() for tweet in amz_1['Tweet content'].dropna() for word in re.findall(r'\\b\\w+\\b', tweet)]\n",
        "word_counts = Counter(all_words)\n",
        "\n",
        "# Getting the most common 50 words\n",
        "top_50_words = word_counts.most_common(50)\n",
        "\n",
        "# Preparing data for plotting\n",
        "words, frequencies = zip(*top_50_words)\n",
        "\n",
        "# Plotting\n",
        "plt.figure(figsize=(15, 10))\n",
        "plt.bar(words, frequencies, color='blue')\n",
        "plt.xlabel('Words')\n",
        "plt.ylabel('Frequency')\n",
        "plt.xticks(rotation=90)\n",
        "plt.title('Top 50 Most Used Words in Tweet Content After Cleaning')\n",
        "plt.show()"
      ],
      "metadata": {
        "colab": {
          "base_uri": "https://localhost:8080/",
          "height": 863
        },
        "id": "10AnsVar14P3",
        "outputId": "f75a92cd-ac4e-4565-85f6-2cd99a94077f"
      },
      "execution_count": 16,
      "outputs": [
        {
          "output_type": "display_data",
          "data": {
            "text/plain": [
              "<Figure size 1500x1000 with 1 Axes>"
            ],
            "image/png": "[encoded data removed]"
          },
          "metadata": {}
        }
      ]
    },
    {
      "cell_type": "markdown",
      "source": [
        "- Q is a former Nasdaq designation that noted a company had filed for bankruptcy."
      ],
      "metadata": {
        "id": "BUdaA5GN6i1V"
      }
    },
    {
      "cell_type": "code",
      "source": [
        "# Convert the data type\n",
        "amz_1.astype({'Tweet content': 'string', 'Tweet language': 'string', 'Company Name': 'string'}).dtypes\n",
        "\n",
        "# Conversion\n",
        "amz_1 = amz_1.astype({'Tweet content': 'string', 'Tweet language': 'string', 'Company Name': 'string'})\n",
        "\n",
        "#print(amz_1.dtypes)\n"
      ],
      "metadata": {
        "id": "fVU9Qk3Sbv5v"
      },
      "execution_count": 17,
      "outputs": []
    },
    {
      "cell_type": "code",
      "source": [
        "#amz_1.head()"
      ],
      "metadata": {
        "id": "jPz00mJh7LX5"
      },
      "execution_count": 18,
      "outputs": []
    },
    {
      "cell_type": "markdown",
      "source": [
        "These words seem to be related to technology, finance, and commerce, particularly focusing on companies like Amazon, Netflix, and Google, as well as terms related to trading such as \"quant,\" \"hft\" (high-frequency trading), \"price,\" \"shares,\" \"stock,\" and \"market.\" There are also terms related to Amazon's services like \"prime\" and \"aws\" (Amazon Web Services)."
      ],
      "metadata": {
        "id": "3HmrpHgZZgCh"
      }
    },
    {
      "cell_type": "code",
      "source": [
        "# Preprocess the text again for LDA\n",
        "def preprocess(text):\n",
        "    text = re.sub(r'[^a-zA-Z\\s]', '', text, re.I|re.A)\n",
        "    tokens = text.lower().split()\n",
        "    stop_words = set(stopwords.words('english'))\n",
        "    lemmatizer = WordNetLemmatizer()\n",
        "    tokens = [lemmatizer.lemmatize(word) for word in tokens if word not in stop_words]\n",
        "    return tokens\n",
        "\n",
        "# Applying preprocessing to each tweet and creating a list of token lists\n",
        "processed_tweets = [preprocess(tweet) for tweet in amz_1['Tweet content'].dropna()]\n",
        "\n",
        "# Creating Dictionary and Corpus with the processed tokens\n",
        "dictionary = corpora.Dictionary(processed_tweets)\n",
        "corpus = [dictionary.doc2bow(tweet) for tweet in processed_tweets]"
      ],
      "metadata": {
        "id": "XANWZVt87D-a"
      },
      "execution_count": 19,
      "outputs": []
    },
    {
      "cell_type": "code",
      "source": [
        "num_topics = 10  # Identify 10 topics\n",
        "lda_model = models.LdaModel(corpus=corpus, id2word=dictionary, num_topics=num_topics, random_state=100,\n",
        "                            update_every=1, chunksize=100, passes=10, alpha='auto', per_word_topics=True)"
      ],
      "metadata": {
        "id": "eE-Nov9y24Pd"
      },
      "execution_count": 20,
      "outputs": []
    },
    {
      "cell_type": "code",
      "source": [
        "# Print the top words associated with each topic\n",
        "for idx, topic in lda_model.print_topics(-1):\n",
        "    print(\"Topic: {} \\nWords: {}\".format(idx, topic))\n",
        "    print(\"\\n\")"
      ],
      "metadata": {
        "colab": {
          "base_uri": "https://localhost:8080/"
        },
        "id": "04ZUrCyB27-c",
        "outputId": "5673c535-e142-43d6-d229-35c2c2290823"
      },
      "execution_count": 21,
      "outputs": [
        {
          "output_type": "stream",
          "name": "stdout",
          "text": [
            "Topic: 0 \n",
            "Words: 0.121*\"baba\" + 0.060*\"ali\" + 0.045*\"yhoo\" + 0.033*\"chart\" + 0.031*\"intc\" + 0.031*\"back\" + 0.026*\"bidu\" + 0.023*\"vrx\" + 0.021*\"growth\" + 0.020*\"business\"\n",
            "\n",
            "\n",
            "Topic: 1 \n",
            "Words: 0.125*\"spy\" + 0.102*\"qqq\" + 0.041*\"spx\" + 0.029*\"iwm\" + 0.028*\"option\" + 0.026*\"big\" + 0.024*\"vix\" + 0.019*\"rating\" + 0.019*\"dia\" + 0.016*\"ibb\"\n",
            "\n",
            "\n",
            "Topic: 2 \n",
            "Words: 0.039*\"prime\" + 0.027*\"cloud\" + 0.026*\"v\" + 0.025*\"get\" + 0.020*\"sprint\" + 0.020*\"ge\" + 0.017*\"watch\" + 0.015*\"share\" + 0.014*\"wall\" + 0.014*\"agn\"\n",
            "\n",
            "\n",
            "Topic: 3 \n",
            "Words: 0.044*\"sbux\" + 0.042*\"csco\" + 0.039*\"deal\" + 0.039*\"dis\" + 0.036*\"dont\" + 0.036*\"pick\" + 0.033*\"f\" + 0.032*\"breakfast\" + 0.024*\"map\" + 0.022*\"bank\"\n",
            "\n",
            "\n",
            "Topic: 4 \n",
            "Words: 0.046*\"button\" + 0.045*\"dash\" + 0.038*\"kindle\" + 0.036*\"stake\" + 0.024*\"target\" + 0.023*\"analyst\" + 0.023*\"echo\" + 0.020*\"jpm\" + 0.020*\"coming\" + 0.015*\"citigroup\"\n",
            "\n",
            "\n",
            "Topic: 5 \n",
            "Words: 0.149*\"call\" + 0.048*\"put\" + 0.038*\"bearish\" + 0.033*\"buying\" + 0.025*\"previous\" + 0.024*\"potential\" + 0.024*\"maturity\" + 0.022*\"around\" + 0.020*\"smart\" + 0.020*\"max\"\n",
            "\n",
            "\n",
            "Topic: 6 \n",
            "Words: 0.088*\"apple\" + 0.085*\"facebook\" + 0.059*\"netflix\" + 0.055*\"google\" + 0.055*\"microsoft\" + 0.046*\"tesla\" + 0.041*\"stock\" + 0.041*\"googlel\" + 0.036*\"twitter\" + 0.020*\"trading\"\n",
            "\n",
            "\n",
            "Topic: 7 \n",
            "Words: 0.509*\"amazon\" + 0.012*\"market\" + 0.008*\"take\" + 0.007*\"say\" + 0.006*\"short\" + 0.006*\"payment\" + 0.006*\"still\" + 0.006*\"move\" + 0.006*\"vz\" + 0.006*\"wmt\"\n",
            "\n",
            "\n",
            "Topic: 8 \n",
            "Words: 0.039*\"bezos\" + 0.034*\"u\" + 0.029*\"company\" + 0.027*\"talk\" + 0.026*\"jeff\" + 0.023*\"delivery\" + 0.022*\"customer\" + 0.020*\"googlele\" + 0.018*\"best\" + 0.017*\"march\"\n",
            "\n",
            "\n",
            "Topic: 9 \n",
            "Words: 0.088*\"service\" + 0.049*\"one\" + 0.044*\"report\" + 0.032*\"seekingalpha\" + 0.029*\"stockmarket\" + 0.023*\"launch\" + 0.023*\"program\" + 0.023*\"way\" + 0.021*\"investor\" + 0.018*\"cut\"\n",
            "\n",
            "\n"
          ]
        }
      ]
    },
    {
      "cell_type": "markdown",
      "source": [
        "Topic 0: Focuses on technology companies and potential business activities, mentioning \"baba,\" \"microsoft,\" and \"yhoo.\"\n",
        "Topic 1: Centers around Amazon's services, Jeff Bezos, and cloud computing.\n",
        "Topic 2: Dominated by references to \"amazon\" and \"amzn,\" indicating a strong thematic focus on Amazon.\n",
        "Topic 3: Highlights financial markets, including stocks and trading symbols like \"spy\" and \"qqq.\"\n",
        "Topic 4: Pertains to major tech companies' stocks, like \"fb,\" \"aapl,\" and \"goog.\"\n",
        "Topic 5 through Topic 9: Cover various aspects of technology discussions, business strategy, market movement, and investment themes, touching on aspects like customer ratings, artificial intelligence, and market sentiment."
      ],
      "metadata": {
        "id": "9yuFK3sG7j7E"
      }
    },
    {
      "cell_type": "code",
      "source": [
        "# For demonstration, let's check the topic distribution for the first processed tweet\n",
        "document_num = 0\n",
        "# Get the topic distribution for the first document\n",
        "doc_distribution = lda_model.get_document_topics(corpus[document_num])\n",
        "print(f\"Document {document_num + 1} Topic Distribution:\")\n",
        "print(doc_distribution)"
      ],
      "metadata": {
        "colab": {
          "base_uri": "https://localhost:8080/"
        },
        "id": "ikM_R-ya2-HH",
        "outputId": "98910534-0672-4a22-e4d5-c34c79f23e01"
      },
      "execution_count": 22,
      "outputs": [
        {
          "output_type": "stream",
          "name": "stdout",
          "text": [
            "Document 1 Topic Distribution:\n",
            "[(0, 0.025912385), (1, 0.042546976), (2, 0.18973415), (3, 0.01466166), (4, 0.031168303), (6, 0.34656927), (7, 0.24471575), (8, 0.031037362), (9, 0.066321276)]\n"
          ]
        }
      ]
    },
    {
      "cell_type": "markdown",
      "source": [
        "# Application of LDA"
      ],
      "metadata": {
        "id": "zPNEyT1yugsm"
      }
    },
    {
      "cell_type": "code",
      "source": [
        "# Print the topics\n",
        "topics = lda_model.print_topics(num_words=4)\n",
        "for topic in topics:\n",
        "    print(topic)"
      ],
      "metadata": {
        "colab": {
          "base_uri": "https://localhost:8080/"
        },
        "id": "UgLU-EaQ2Ld1",
        "outputId": "4105468e-932c-4e67-d2e5-26e92dc75cb1"
      },
      "execution_count": 23,
      "outputs": [
        {
          "output_type": "stream",
          "name": "stdout",
          "text": [
            "(0, '0.121*\"baba\" + 0.060*\"ali\" + 0.045*\"yhoo\" + 0.033*\"chart\"')\n",
            "(1, '0.125*\"spy\" + 0.102*\"qqq\" + 0.041*\"spx\" + 0.029*\"iwm\"')\n",
            "(2, '0.039*\"prime\" + 0.027*\"cloud\" + 0.026*\"v\" + 0.025*\"get\"')\n",
            "(3, '0.044*\"sbux\" + 0.042*\"csco\" + 0.039*\"deal\" + 0.039*\"dis\"')\n",
            "(4, '0.046*\"button\" + 0.045*\"dash\" + 0.038*\"kindle\" + 0.036*\"stake\"')\n",
            "(5, '0.149*\"call\" + 0.048*\"put\" + 0.038*\"bearish\" + 0.033*\"buying\"')\n",
            "(6, '0.088*\"apple\" + 0.085*\"facebook\" + 0.059*\"netflix\" + 0.055*\"google\"')\n",
            "(7, '0.509*\"amazon\" + 0.012*\"market\" + 0.008*\"take\" + 0.007*\"say\"')\n",
            "(8, '0.039*\"bezos\" + 0.034*\"u\" + 0.029*\"company\" + 0.027*\"talk\"')\n",
            "(9, '0.088*\"service\" + 0.049*\"one\" + 0.044*\"report\" + 0.032*\"seekingalpha\"')\n"
          ]
        }
      ]
    },
    {
      "cell_type": "markdown",
      "source": [
        "# Evaluation\n",
        "- Coherence Score: This metric measures the interpretability of the topics. Higher coherence scores indicate more interpretable topics."
      ],
      "metadata": {
        "id": "0LjgFu62uOK1"
      }
    },
    {
      "cell_type": "code",
      "source": [
        "from gensim.models import CoherenceModel\n",
        "coherence_model_lda = CoherenceModel(model=lda_model, texts=corpus, dictionary=dictionary, coherence='c_v')\n",
        "coherence_lda = coherence_model_lda.get_coherence()\n",
        "print(\"Coherence Score:\", coherence_lda)"
      ],
      "metadata": {
        "colab": {
          "base_uri": "https://localhost:8080/"
        },
        "id": "QEijJLLhuHxZ",
        "outputId": "abde191a-e5ee-43d2-dbcb-7204bc706912"
      },
      "execution_count": 24,
      "outputs": [
        {
          "output_type": "stream",
          "name": "stderr",
          "text": [
            "/usr/local/lib/python3.10/dist-packages/gensim/topic_coherence/direct_confirmation_measure.py:204: RuntimeWarning: divide by zero encountered in scalar divide\n",
            "  m_lr_i = np.log(numerator / denominator)\n",
            "/usr/local/lib/python3.10/dist-packages/gensim/topic_coherence/indirect_confirmation_measure.py:323: RuntimeWarning: invalid value encountered in scalar divide\n",
            "  return cv1.T.dot(cv2)[0, 0] / (_magnitude(cv1) * _magnitude(cv2))\n"
          ]
        },
        {
          "output_type": "stream",
          "name": "stdout",
          "text": [
            "Coherence Score: nan\n"
          ]
        }
      ]
    },
    {
      "cell_type": "markdown",
      "source": [
        "- Perplexity: This metric measures how well the model predicts the held-out data. Lower perplexity values indicate better performance."
      ],
      "metadata": {
        "id": "kCaUCmhluVDs"
      }
    },
    {
      "cell_type": "markdown",
      "source": [
        "- Topic Diversity: Evaluate the diversity of topics generated by the model. This involves assessing how distinct each topic is from the others."
      ],
      "metadata": {
        "id": "MO6miQFPua-k"
      }
    },
    {
      "cell_type": "code",
      "source": [
        "def calculate_topic_diversity(lda_model, topn=10):\n",
        "    unique_words = set()\n",
        "    total_words = topn * lda_model.num_topics  # Total number of words across all topics\n",
        "\n",
        "    for topic_id in range(lda_model.num_topics):\n",
        "        # Extract the top N words for each topic\n",
        "        top_words = [word for word, prob in lda_model.show_topic(topic_id, topn)]\n",
        "        unique_words.update(top_words)\n",
        "\n",
        "    # Calculate diversity as the ratio of unique words to total words\n",
        "    diversity = len(unique_words) / total_words\n",
        "    return diversity\n",
        "\n",
        "# Assuming lda_model is your trained LDA model from Gensim\n",
        "topic_diversity = calculate_topic_diversity(lda_model, topn=10)\n",
        "print(\"Topic Diversity:\", topic_diversity)"
      ],
      "metadata": {
        "colab": {
          "base_uri": "https://localhost:8080/"
        },
        "id": "5vZ-tsCT5b6a",
        "outputId": "b153e90c-9152-4d7c-fe13-cdcd0cf3ee4c"
      },
      "execution_count": 25,
      "outputs": [
        {
          "output_type": "stream",
          "name": "stdout",
          "text": [
            "Topic Diversity: 1.0\n"
          ]
        }
      ]
    },
    {
      "cell_type": "markdown",
      "source": [
        "- Alpha and Beta Parameters: These control the document-topic density and topic-word density, respectively. Setting these to 'auto' allows the model to learn these parameters from the data, but it can also experiment with specific values.\n",
        "- Chunksize: This parameter controls how many documents are processed at a time in each training iteration."
      ],
      "metadata": {
        "id": "z9dEuORitrc3"
      }
    },
    {
      "cell_type": "code",
      "source": [
        "# Assuming 'lda_model' is your trained LDA model and 'corpus' is the corpus on which the model was trained\n",
        "log_perplexity = lda_model.log_perplexity(corpus)\n",
        "print(\"Log Perplexity:\", log_perplexity)\n",
        "\n",
        "# To convert log perplexity to perplexity\n",
        "perplexity = 2**(-log_perplexity)\n",
        "print(\"Perplexity:\", perplexity)"
      ],
      "metadata": {
        "colab": {
          "base_uri": "https://localhost:8080/"
        },
        "id": "totaeBbI6aX8",
        "outputId": "6d725cc9-2d39-4034-9fa7-8cc933b013b0"
      },
      "execution_count": 26,
      "outputs": [
        {
          "output_type": "stream",
          "name": "stdout",
          "text": [
            "Log Perplexity: -8.387291653962654\n",
            "Perplexity: 334.83154763553017\n"
          ]
        }
      ]
    },
    {
      "cell_type": "code",
      "source": [
        "# Print the topics\n",
        "topics = lda_model.print_topics(num_words=4)\n",
        "for topic in topics:\n",
        "    print(topic)"
      ],
      "metadata": {
        "colab": {
          "base_uri": "https://localhost:8080/"
        },
        "id": "26u9u6pUjMj6",
        "outputId": "a578b4f7-0596-4b34-88f9-f1a12d9f85e3"
      },
      "execution_count": 27,
      "outputs": [
        {
          "output_type": "stream",
          "name": "stdout",
          "text": [
            "(0, '0.121*\"baba\" + 0.060*\"ali\" + 0.045*\"yhoo\" + 0.033*\"chart\"')\n",
            "(1, '0.125*\"spy\" + 0.102*\"qqq\" + 0.041*\"spx\" + 0.029*\"iwm\"')\n",
            "(2, '0.039*\"prime\" + 0.027*\"cloud\" + 0.026*\"v\" + 0.025*\"get\"')\n",
            "(3, '0.044*\"sbux\" + 0.042*\"csco\" + 0.039*\"deal\" + 0.039*\"dis\"')\n",
            "(4, '0.046*\"button\" + 0.045*\"dash\" + 0.038*\"kindle\" + 0.036*\"stake\"')\n",
            "(5, '0.149*\"call\" + 0.048*\"put\" + 0.038*\"bearish\" + 0.033*\"buying\"')\n",
            "(6, '0.088*\"apple\" + 0.085*\"facebook\" + 0.059*\"netflix\" + 0.055*\"google\"')\n",
            "(7, '0.509*\"amazon\" + 0.012*\"market\" + 0.008*\"take\" + 0.007*\"say\"')\n",
            "(8, '0.039*\"bezos\" + 0.034*\"u\" + 0.029*\"company\" + 0.027*\"talk\"')\n",
            "(9, '0.088*\"service\" + 0.049*\"one\" + 0.044*\"report\" + 0.032*\"seekingalpha\"')\n"
          ]
        }
      ]
    },
    {
      "cell_type": "code",
      "source": [
        "# Bar Plot for each topic showing word weights\n",
        "fig = px.bar(topics, x='Word', y='Weight', color='Topic', title='LDA Topic Modeling: Word Weights by Topic',\n",
        "             facet_col='Topic', facet_col_wrap=4, height=800)\n",
        "\n",
        "fig.show()"
      ],
      "metadata": {
        "id": "gdCCTRI59dCT"
      },
      "execution_count": null,
      "outputs": []
    },
    {
      "cell_type": "markdown",
      "source": [
        "Topic 2 has earning calls\n",
        "Topic 3 has"
      ],
      "metadata": {
        "id": "o7pQd29xAkf6"
      }
    },
    {
      "cell_type": "code",
      "source": [
        "# Scatter Plot for visualizing word weights in topics\n",
        "fig = px.scatter(df_topics, x='Word', y='Topic', size='Weight', color='Topic',\n",
        "                 title='LDA Topic Modeling: Word Weights by Topic', height=800)\n",
        "\n",
        "fig.update_traces(marker=dict(opacity=0.7), selector=dict(mode='markers'))\n",
        "\n",
        "fig.show()"
      ],
      "metadata": {
        "id": "Bfp6bohC9j8m"
      },
      "execution_count": null,
      "outputs": []
    },
    {
      "cell_type": "code",
      "source": [],
      "metadata": {
        "id": "Txq7YrMT9j6J"
      },
      "execution_count": null,
      "outputs": []
    }
  ]
}